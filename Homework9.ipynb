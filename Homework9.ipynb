{
 "cells": [
  {
   "cell_type": "markdown",
   "id": "a5fa3877",
   "metadata": {},
   "source": [
    "<font size = 3> <b> Упр.1 </b> </font>\n",
    "Напиши функцию вычисляющую корень квадратного уравнения. Например, а) больший корень. б) оба корня ввиде набора."
   ]
  },
  {
   "cell_type": "code",
   "execution_count": 1,
   "id": "5f802aa5",
   "metadata": {},
   "outputs": [],
   "source": [
    "import math as mt"
   ]
  },
  {
   "cell_type": "code",
   "execution_count": 2,
   "id": "488b60a3",
   "metadata": {},
   "outputs": [],
   "source": [
    "def solve_quad(a,b,c,x):\n",
    "    eps=1e-14\n",
    "    D=b**2-4*a*c\n",
    "    \n",
    "    if(abs(a)<eps):\n",
    "        if(abs(b)<eps):\n",
    "            if(abs(c)<eps):\n",
    "                return \"Любое число является корнем\"\n",
    "            else:\n",
    "                return []\n",
    "        elif(x==\"max\"):\n",
    "            return -c/b\n",
    "        elif(x==\"min\"):\n",
    "            return -c/b\n",
    "        elif(x==\"both\"):\n",
    "            return [-c/b]*2\n",
    "        \n",
    "    elif(D>=0):\n",
    "        x1, x2= -b+mt.sqrt(D)/(2*a), -b-mt.sqrt(D)/(2*a)\n",
    "        if(x==\"max\"):\n",
    "            return max(x1,x2)\n",
    "        if(x==\"min\"):\n",
    "            return min(x1,x2)\n",
    "        if(x==\"both\"):\n",
    "            return [x1,x2]\n",
    "    elif(D<0):\n",
    "        return []    "
   ]
  },
  {
   "cell_type": "code",
   "execution_count": 3,
   "id": "3fcb1557",
   "metadata": {},
   "outputs": [
    {
     "name": "stdout",
     "output_type": "stream",
     "text": [
      "both [5.5, 4.5]\n",
      "min 4.5\n",
      "max 5.5\n"
     ]
    }
   ],
   "source": [
    "print(\"both\", solve_quad(a=1,b=-5,c=6,x=\"both\") )\n",
    "print(\"min\", solve_quad(a=1,b=-5,c=6,x=\"min\") )\n",
    "print(\"max\", solve_quad(a=1,b=-5,c=6,x=\"max\") )"
   ]
  },
  {
   "cell_type": "markdown",
   "id": "e9d61705",
   "metadata": {},
   "source": [
    "<font size = 3> <b> Упр.2 </b> </font> Написать функцию вычисляющую логарифм. По умолчанию основание пусть будет натуральным. Иначе, оно должно быть указано."
   ]
  },
  {
   "cell_type": "code",
   "execution_count": 4,
   "id": "8f176a91",
   "metadata": {},
   "outputs": [],
   "source": [
    "def log_func(x,base=mt.e):\n",
    "    return mt.log(x,base)"
   ]
  },
  {
   "cell_type": "code",
   "execution_count": 5,
   "id": "63e1e123",
   "metadata": {},
   "outputs": [
    {
     "data": {
      "text/plain": [
       "(2.0, 3.0)"
      ]
     },
     "execution_count": 5,
     "metadata": {},
     "output_type": "execute_result"
    }
   ],
   "source": [
    "log_func(mt.e**2), log_func(8, base = 2)"
   ]
  },
  {
   "cell_type": "markdown",
   "id": "9a494e53",
   "metadata": {},
   "source": [
    "<font size = 3> <b> Упр.3 </b> </font> Напиши функцию вычисляющую среднее и среднеквадратичное отклонение массива."
   ]
  },
  {
   "cell_type": "code",
   "execution_count": 6,
   "id": "0b3815ab",
   "metadata": {},
   "outputs": [],
   "source": [
    "import numpy as np"
   ]
  },
  {
   "cell_type": "code",
   "execution_count": 7,
   "id": "8dcd5c57",
   "metadata": {},
   "outputs": [],
   "source": [
    "#Посчитал среднее и\n",
    "#корень из выборочной дисперсии\n",
    "def stat_mean(l):\n",
    "    Ex=np.mean(l)\n",
    "    sigma_x=np.mean( [(x-Ex)**2 for x in l] )\n",
    "    return [Ex,mt.sqrt(sigma_x)]"
   ]
  },
  {
   "cell_type": "code",
   "execution_count": 8,
   "id": "5e5b829a",
   "metadata": {},
   "outputs": [
    {
     "data": {
      "text/plain": [
       "[2.0, 1.4142135623730951]"
      ]
     },
     "execution_count": 8,
     "metadata": {},
     "output_type": "execute_result"
    }
   ],
   "source": [
    "#2 и корень из 2\n",
    "stat_mean([1,4,1])"
   ]
  },
  {
   "cell_type": "markdown",
   "id": "44e4293c",
   "metadata": {},
   "source": [
    "<font size = 3> <b> Упр.4 </b> </font> Написать декоратор, который проверяет права на вызов функции. т.е. если например в аргументе key содержится нужный ключ. В случае наличия прав функция вызывается, иначе нет (делается пустое действие)."
   ]
  },
  {
   "cell_type": "code",
   "execution_count": 9,
   "id": "b39827fb",
   "metadata": {},
   "outputs": [],
   "source": [
    "def key_dec( f ):\n",
    "    def check_key( *args ):\n",
    "            key=args[-1]\n",
    "            if(key==\"good_key\"):\n",
    "                return f( *args[:-1])\n",
    "            else:\n",
    "                print(\"Wrong key!\")\n",
    "    return check_key"
   ]
  },
  {
   "cell_type": "code",
   "execution_count": 10,
   "id": "0c67ebbb",
   "metadata": {},
   "outputs": [],
   "source": [
    "@key_dec\n",
    "def my_pow(x, y):\n",
    "    return x**y"
   ]
  },
  {
   "cell_type": "code",
   "execution_count": 11,
   "id": "de39c7c7",
   "metadata": {},
   "outputs": [
    {
     "data": {
      "text/plain": [
       "8"
      ]
     },
     "execution_count": 11,
     "metadata": {},
     "output_type": "execute_result"
    }
   ],
   "source": [
    "my_pow(2, 3, \"good_key\" )"
   ]
  },
  {
   "cell_type": "code",
   "execution_count": 12,
   "id": "b2b60bf6",
   "metadata": {},
   "outputs": [
    {
     "name": "stdout",
     "output_type": "stream",
     "text": [
      "Wrong key!\n"
     ]
    }
   ],
   "source": [
    "my_pow(2, 3, \"bad_key\")"
   ]
  }
 ],
 "metadata": {
  "kernelspec": {
   "display_name": "Python 3 (ipykernel)",
   "language": "python",
   "name": "python3"
  },
  "language_info": {
   "codemirror_mode": {
    "name": "ipython",
    "version": 3
   },
   "file_extension": ".py",
   "mimetype": "text/x-python",
   "name": "python",
   "nbconvert_exporter": "python",
   "pygments_lexer": "ipython3",
   "version": "3.10.6"
  }
 },
 "nbformat": 4,
 "nbformat_minor": 5
}
