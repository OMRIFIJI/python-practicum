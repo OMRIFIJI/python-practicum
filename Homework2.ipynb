{
 "cells": [
  {
   "cell_type": "code",
   "execution_count": 1,
   "id": "a850e84b",
   "metadata": {},
   "outputs": [
    {
     "name": "stdout",
     "output_type": "stream",
     "text": [
      "n = 3\n",
      "a = 1\n",
      "b = 21\n"
     ]
    }
   ],
   "source": [
    "n,a,b=int(input('n = ')),float(input('a = ')),float(input('b = '))"
   ]
  },
  {
   "cell_type": "code",
   "execution_count": 2,
   "id": "3a3e5544",
   "metadata": {},
   "outputs": [
    {
     "name": "stdout",
     "output_type": "stream",
     "text": [
      "Разбиение: [1.0, 11.0, 21.0]\n"
     ]
    }
   ],
   "source": [
    "if a < b and n > 1:\n",
    "    g= (a + i*(b-a)/(n-1) for i in range(0, n))\n",
    "    print(\"Разбиение:\", list(g))\n",
    "else:\n",
    "    print(\"Плохой отрезок или плохое разбиение\")\n"
   ]
  }
 ],
 "metadata": {
  "kernelspec": {
   "display_name": "Python 3 (ipykernel)",
   "language": "python",
   "name": "python3"
  },
  "language_info": {
   "codemirror_mode": {
    "name": "ipython",
    "version": 3
   },
   "file_extension": ".py",
   "mimetype": "text/x-python",
   "name": "python",
   "nbconvert_exporter": "python",
   "pygments_lexer": "ipython3",
   "version": "3.10.4"
  }
 },
 "nbformat": 4,
 "nbformat_minor": 5
}
