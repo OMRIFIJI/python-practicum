{
 "cells": [
  {
   "cell_type": "markdown",
   "id": "d630a19c",
   "metadata": {},
   "source": [
    "<font size = 3> <b> Упр.1 </b> </font>\n",
    "Вывести минимум из трех чисел, записанных в переменные a, b, c."
   ]
  },
  {
   "cell_type": "code",
   "execution_count": 1,
   "id": "3a3e5544",
   "metadata": {},
   "outputs": [],
   "source": [
    "a, b, c = 8, 1, 5"
   ]
  },
  {
   "cell_type": "code",
   "execution_count": 2,
   "id": "01892054",
   "metadata": {},
   "outputs": [
    {
     "name": "stdout",
     "output_type": "stream",
     "text": [
      "Минимум:  1\n"
     ]
    }
   ],
   "source": [
    "min_ab = a if a<b else b\n",
    "\n",
    "min_abc = c if c<min_ab else min_ab\n",
    "\n",
    "print(\"Минимум: \", str(min_abc))"
   ]
  },
  {
   "cell_type": "markdown",
   "id": "7e3587cd",
   "metadata": {},
   "source": [
    "<font size = 3> <b> Упр.2 </b> </font>\n",
    "Как за счет преобразования типов и арифметических действий получить дробную часть числа?"
   ]
  },
  {
   "cell_type": "code",
   "execution_count": 3,
   "id": "91a97abb",
   "metadata": {},
   "outputs": [],
   "source": [
    "#Здесь задаём float\n",
    "a=7/5"
   ]
  },
  {
   "cell_type": "code",
   "execution_count": 4,
   "id": "1b3aedb3",
   "metadata": {},
   "outputs": [
    {
     "data": {
      "text/plain": [
       "0.3999999999999999"
      ]
     },
     "execution_count": 4,
     "metadata": {},
     "output_type": "execute_result"
    }
   ],
   "source": [
    "float(a-int(a))"
   ]
  },
  {
   "cell_type": "markdown",
   "id": "d3e41675",
   "metadata": {},
   "source": [
    "<font size = 3> <b> Упр.3 </b> </font>\n",
    "Решите линейное уравнение ax+b=0 с учетом всех возможных исходов."
   ]
  },
  {
   "cell_type": "code",
   "execution_count": 5,
   "id": "3d765c4c",
   "metadata": {},
   "outputs": [],
   "source": [
    "a, b = 1, 2"
   ]
  },
  {
   "cell_type": "code",
   "execution_count": 6,
   "id": "594a53ca",
   "metadata": {},
   "outputs": [
    {
     "name": "stdout",
     "output_type": "stream",
     "text": [
      "x = -2.0\n"
     ]
    }
   ],
   "source": [
    "if(a==0):\n",
    "    if(b==0):\n",
    "        print(\"x - любое\")\n",
    "    else:\n",
    "        print(\"Нет решений\")\n",
    "else:\n",
    "    print(\"x = \" + str(-b/a))"
   ]
  },
  {
   "cell_type": "markdown",
   "id": "20715252",
   "metadata": {},
   "source": [
    "<font size = 3> <b> Упр.4 </b> </font>\n",
    "Напишите код (цикл) определяющий простоту числа."
   ]
  },
  {
   "cell_type": "code",
   "execution_count": 7,
   "id": "f84d6c23",
   "metadata": {},
   "outputs": [],
   "source": [
    "p=131"
   ]
  },
  {
   "cell_type": "code",
   "execution_count": 8,
   "id": "3b79a306",
   "metadata": {},
   "outputs": [
    {
     "name": "stdout",
     "output_type": "stream",
     "text": [
      "p - простое\n"
     ]
    }
   ],
   "source": [
    "k=1\n",
    "while k <= p//2:\n",
    "    k+=1\n",
    "    if(p%k==0):\n",
    "        print(\"p - не простое\")\n",
    "        break\n",
    "else:\n",
    "    print(\"p - простое\")"
   ]
  },
  {
   "cell_type": "markdown",
   "id": "d3f0a0a2",
   "metadata": {},
   "source": [
    "<font size = 3> <b> Упр.5 </b> </font>\n",
    "Определите среднюю длину введенных имен. Ввод завершается, когда вводится не имя."
   ]
  },
  {
   "cell_type": "code",
   "execution_count": 9,
   "id": "dfdfbc2d",
   "metadata": {},
   "outputs": [
    {
     "name": "stdout",
     "output_type": "stream",
     "text": [
      "Иван\n",
      "Мария\n",
      "Даниил\n",
      "3Борис\n",
      "Средняя длина имени: 5.0\n"
     ]
    }
   ],
   "source": [
    "k=0\n",
    "n=0\n",
    "while(True):\n",
    "    a=input();\n",
    "    \n",
    "    if(a[0].islower()):\n",
    "        break\n",
    "    if(not a.isalpha()):\n",
    "        break\n",
    "    \n",
    "    k+=1\n",
    "    n+=len(a)\n",
    "print(\"Средняя длина имени: \" + str(n/k))"
   ]
  }
 ],
 "metadata": {
  "kernelspec": {
   "display_name": "Python 3 (ipykernel)",
   "language": "python",
   "name": "python3"
  },
  "language_info": {
   "codemirror_mode": {
    "name": "ipython",
    "version": 3
   },
   "file_extension": ".py",
   "mimetype": "text/x-python",
   "name": "python",
   "nbconvert_exporter": "python",
   "pygments_lexer": "ipython3",
   "version": "3.10.4"
  }
 },
 "nbformat": 4,
 "nbformat_minor": 5
}
