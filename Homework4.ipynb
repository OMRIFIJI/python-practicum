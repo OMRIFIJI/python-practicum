{
 "cells": [
  {
   "cell_type": "markdown",
   "id": "e5a15710",
   "metadata": {},
   "source": [
    "<font size = 3> <b> Упр.1 </b> </font>\n",
    "Есть упорядоченный список, например = [1,3,5,7,9,11] Нужно запросить у пользователя число и вставить его в нужное место данного списка., т.е. фактически сначала найти место/индекс, фактически реализовать вручную метод insert"
   ]
  },
  {
   "cell_type": "code",
   "execution_count": 1,
   "id": "4491425d",
   "metadata": {},
   "outputs": [],
   "source": [
    "a=[1,3,4,7,9,11]"
   ]
  },
  {
   "cell_type": "code",
   "execution_count": 2,
   "id": "ef2afc93",
   "metadata": {},
   "outputs": [
    {
     "name": "stdout",
     "output_type": "stream",
     "text": [
      "Число: 5\n",
      "[1, 3, 4, 5, 7, 9, 11]\n"
     ]
    }
   ],
   "source": [
    "num=int(input(\"Число: \"))\n",
    "\n",
    "if(num<=a[0]):\n",
    "    l=a.copy()\n",
    "    a=[num]\n",
    "    a.extend(l)\n",
    "else:\n",
    "    if(a[-1]<num):\n",
    "        a.append(num)\n",
    "    else:\n",
    "        for i in range(1,len(a)):\n",
    "            if (a[i-1]< num<=a[i]):\n",
    "                l1=a[:i].copy()\n",
    "                l1.append(num)\n",
    "                l1.extend(a[i:])\n",
    "                a=l1;\n",
    "                break;\n",
    "    \n",
    "\n",
    "    \n",
    "print(a);"
   ]
  },
  {
   "cell_type": "markdown",
   "id": "7b121021",
   "metadata": {},
   "source": [
    "<font size = 3> <b>Упр.2</b> </font> \n",
    "В чем разница между присвоением пустого списка с методом clear? Возможно лучше сначала весь ноутбук прочесть."
   ]
  },
  {
   "cell_type": "code",
   "execution_count": 3,
   "id": "2ccd0efb",
   "metadata": {},
   "outputs": [
    {
     "name": "stdout",
     "output_type": "stream",
     "text": [
      "b = [1, 2, 3]\n",
      "None\n"
     ]
    }
   ],
   "source": [
    "#а=[] исходный список не удаляется, переменная а просто указывает на новый список\n",
    "a=[1,2,3]\n",
    "b=a\n",
    "a=[]\n",
    "print(\"b =\", b)\n",
    "\n",
    "#a.clear исходный объект удален, в ячееке, на которую указывает b (с номеров id(b)) списка больше нет\n",
    "a=[1,2,3]\n",
    "b=a.clear()\n",
    "a=[]\n",
    "print(b)\n"
   ]
  },
  {
   "cell_type": "markdown",
   "id": "bdbcf893",
   "metadata": {},
   "source": [
    "<font size = 3><b>Упр.3</b> </font>\n",
    "Как циклически сдвинуть элементы списка?"
   ]
  },
  {
   "cell_type": "code",
   "execution_count": 4,
   "id": "b64530bc",
   "metadata": {},
   "outputs": [],
   "source": [
    "a=[1, 3, 5, 7, 2]"
   ]
  },
  {
   "cell_type": "code",
   "execution_count": 5,
   "id": "da9d124c",
   "metadata": {},
   "outputs": [
    {
     "name": "stdout",
     "output_type": "stream",
     "text": [
      "[2, 1, 3, 5, 7]\n"
     ]
    }
   ],
   "source": [
    "m=a.pop()\n",
    "l=a.copy()\n",
    "a=[m]\n",
    "a.extend(l)\n",
    "print(a)"
   ]
  },
  {
   "cell_type": "markdown",
   "id": "485fde4b",
   "metadata": {},
   "source": [
    "<font size = 3><b>Упр.4</b> </font>\n",
    "Объяснить почему у списка q изменение произошло в двух местах."
   ]
  },
  {
   "cell_type": "code",
   "execution_count": 6,
   "id": "a6ce4bcd",
   "metadata": {},
   "outputs": [
    {
     "name": "stdout",
     "output_type": "stream",
     "text": [
      "[[1, 2, 3], [1, 2, 3]]\n",
      "[[1, 11, 3], [1, 11, 3]]\n"
     ]
    }
   ],
   "source": [
    "t = [1, 2, 3]\n",
    "q = [t] * 2\n",
    "print(q)\n",
    "q[0][1] = 11\n",
    "print(q)"
   ]
  },
  {
   "cell_type": "code",
   "execution_count": 7,
   "id": "85c18357",
   "metadata": {},
   "outputs": [
    {
     "name": "stdout",
     "output_type": "stream",
     "text": [
      "True\n"
     ]
    }
   ],
   "source": [
    "print( id(q[0][1]) == id(q[1][1]) )"
   ]
  },
  {
   "cell_type": "markdown",
   "id": "8a7b03c0",
   "metadata": {},
   "source": [
    "<font size = 3><b>Упр.5</b> </font>\n",
    "Почему copy не спасает"
   ]
  },
  {
   "cell_type": "code",
   "execution_count": 8,
   "id": "ebddc75a",
   "metadata": {},
   "outputs": [
    {
     "name": "stdout",
     "output_type": "stream",
     "text": [
      "[5, [3, -2], [5, 8]] [5, [3, -2], [5, 8]]\n"
     ]
    }
   ],
   "source": [
    "f = [ 5, [3, -2], [5, 8]]\n",
    "g = f.copy()\n",
    "\n",
    "print(f,g)"
   ]
  },
  {
   "cell_type": "code",
   "execution_count": 9,
   "id": "c6902abb",
   "metadata": {},
   "outputs": [
    {
     "data": {
      "text/plain": [
       "True"
      ]
     },
     "execution_count": 9,
     "metadata": {},
     "output_type": "execute_result"
    }
   ],
   "source": [
    "#Здесь и видно в чём проблема\n",
    "id(f[1])==id(g[1])"
   ]
  },
  {
   "cell_type": "code",
   "execution_count": 10,
   "id": "0f03c4d9",
   "metadata": {},
   "outputs": [
    {
     "name": "stdout",
     "output_type": "stream",
     "text": [
      "[5, [3, -2, -1], [5, 8]] [5, [3, -2, -1], [5, 8]]\n"
     ]
    }
   ],
   "source": [
    "#Здесь сама проблема\n",
    "g[1].append(-1)\n",
    "\n",
    "print(f,g)"
   ]
  },
  {
   "cell_type": "markdown",
   "id": "45a477b2",
   "metadata": {},
   "source": [
    "<font size = 3><b>Упр.6</b> </font>\n",
    "Почему у [1,2] и [2] один и тот же id?"
   ]
  },
  {
   "cell_type": "code",
   "execution_count": 11,
   "id": "965f1e6a",
   "metadata": {},
   "outputs": [
    {
     "data": {
      "text/plain": [
       "True"
      ]
     },
     "execution_count": 11,
     "metadata": {},
     "output_type": "execute_result"
    }
   ],
   "source": [
    "id([1,2]) == id([2])"
   ]
  },
  {
   "cell_type": "code",
   "execution_count": 12,
   "id": "b68ca60c",
   "metadata": {},
   "outputs": [],
   "source": [
    "#Пока так и не понял"
   ]
  },
  {
   "cell_type": "markdown",
   "id": "4798a37c",
   "metadata": {},
   "source": [
    "<font size = 3><b>Упр.7</b> </font>\n",
    "Как получить список равномерно заполняющих точек n на произвольном отрезке [a,b]."
   ]
  },
  {
   "cell_type": "code",
   "execution_count": 13,
   "id": "f202760e",
   "metadata": {},
   "outputs": [
    {
     "name": "stdout",
     "output_type": "stream",
     "text": [
      "Введите начало отрезка: 11.5\n",
      "Введите конец отрезка: 21.5\n",
      "Введите n: 10\n"
     ]
    }
   ],
   "source": [
    "a = float(input(\"Введите начало отрезка: \"))\n",
    "b = float(input(\"Введите конец отрезка: \"))\n",
    "n = int(input(\"Введите n: \"))"
   ]
  },
  {
   "cell_type": "code",
   "execution_count": 14,
   "id": "90d63cb8",
   "metadata": {},
   "outputs": [
    {
     "data": {
      "text/plain": [
       "[11.5, 12.5, 13.5, 14.5, 15.5, 16.5, 17.5, 18.5, 19.5, 20.5, 21.5]"
      ]
     },
     "execution_count": 14,
     "metadata": {},
     "output_type": "execute_result"
    }
   ],
   "source": [
    "[a+i*(b-a)/n for i in range(0, n+1)]"
   ]
  }
 ],
 "metadata": {
  "kernelspec": {
   "display_name": "Python 3 (ipykernel)",
   "language": "python",
   "name": "python3"
  },
  "language_info": {
   "codemirror_mode": {
    "name": "ipython",
    "version": 3
   },
   "file_extension": ".py",
   "mimetype": "text/x-python",
   "name": "python",
   "nbconvert_exporter": "python",
   "pygments_lexer": "ipython3",
   "version": "3.10.4"
  }
 },
 "nbformat": 4,
 "nbformat_minor": 5
}
