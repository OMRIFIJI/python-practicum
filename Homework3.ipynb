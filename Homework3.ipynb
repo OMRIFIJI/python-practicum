{
 "cells": [
  {
   "cell_type": "markdown",
   "id": "e3025448",
   "metadata": {},
   "source": [
    "<font size = 3> <b> Упр.1 </b> </font>\n",
    "Список корней квадратного уравнения.\n"
   ]
  },
  {
   "cell_type": "code",
   "execution_count": 18,
   "id": "4491425d",
   "metadata": {},
   "outputs": [],
   "source": [
    "#Здесь задаём коэффициенты\n",
    "a=1\n",
    "b=5\n",
    "c=6"
   ]
  },
  {
   "cell_type": "code",
   "execution_count": 19,
   "id": "ef2afc93",
   "metadata": {},
   "outputs": [
    {
     "name": "stdout",
     "output_type": "stream",
     "text": [
      "[-2.0, -3.0]\n"
     ]
    }
   ],
   "source": [
    "if(a==0):\n",
    "    if(b==0):\n",
    "        print(\"Коэффициенты при x и x^2 равны 0\")\n",
    "    else:\n",
    "        x1 = -c/b\n",
    "        x2 = x1\n",
    "        print([x2]) #Линейное\n",
    "else:\n",
    "    D = b**2-4*a*c\n",
    "    if D == 0:\n",
    "        x1 = -b/(2*a)\n",
    "        x2 = x1\n",
    "        print([x1])\n",
    "    else:\n",
    "        x1 = ( -b + D**(1/2) ) / (2*a)\n",
    "        x2 = -( b + D**(1/2) ) / (2*a)\n",
    "        print([x1,x2] )"
   ]
  },
  {
   "cell_type": "markdown",
   "id": "5154a231",
   "metadata": {},
   "source": [
    "<font size = 3> <b> Упр.2 </b> </font>\n",
    "Заполнить список первыми n простыми числами. n Вводится."
   ]
  },
  {
   "cell_type": "code",
   "execution_count": 22,
   "id": "22a6026a",
   "metadata": {},
   "outputs": [
    {
     "name": "stdout",
     "output_type": "stream",
     "text": [
      "11\n",
      "[1, 2, 3, 5, 7, 11, 13, 17, 19, 23, 29]\n"
     ]
    }
   ],
   "source": [
    "n=int(input());\n",
    "l=[1];\n",
    "k=1;\n",
    "i=1\n",
    "while(k<n):\n",
    "    i+=1;\n",
    "    for j in range(2,i):\n",
    "        if i % j == 0:\n",
    "            break\n",
    "    else:\n",
    "        l.append(i)\n",
    "        k+=1;\n",
    "print(l)"
   ]
  },
  {
   "cell_type": "markdown",
   "id": "e7eb0f86",
   "metadata": {},
   "source": [
    "<font size = 3> <b> Упр.3</b> </font>\n",
    "Как переставить в обратном порядке элементы списка с четным индексом? На нечетных останутся неизменными. Пример: [23, 23, 4, -7, 4, 11]\n"
   ]
  },
  {
   "cell_type": "code",
   "execution_count": 55,
   "id": "11974b9e",
   "metadata": {},
   "outputs": [
    {
     "name": "stdout",
     "output_type": "stream",
     "text": [
      "[23, 23, 4, -7, 1, 11, 5]\n",
      "[5, 23, 1, -7, 4, 11, 23]\n"
     ]
    }
   ],
   "source": [
    "l=[23, 23, 4, -7, 1, 11, 5]\n",
    "print(l)\n",
    "\n",
    "if len(l)%2==0:\n",
    "    l_rev=l[-2::-2].copy()\n",
    "else:\n",
    "    l_rev=l[-1::-2].copy()\n",
    "    \n",
    "for i in range(0,len(l),2):\n",
    "        l[i]=l_rev[int(i/2)]\n",
    "    \n",
    "print(l)\n"
   ]
  },
  {
   "cell_type": "markdown",
   "id": "17d6dcf6",
   "metadata": {},
   "source": [
    "<font size = 3> <b> Упр.4 </b> </font>\n",
    "Примени чистку пробелов для чистки введенного имени пользователя. Выведите что-то о нем чтобы было видно что пробелу удалены."
   ]
  },
  {
   "cell_type": "code",
   "execution_count": 61,
   "id": "ff2c2f73",
   "metadata": {},
   "outputs": [
    {
     "name": "stdout",
     "output_type": "stream",
     "text": [
      "Введите имя пользователя: Ви та  л и    й\n",
      "Виталий\n"
     ]
    }
   ],
   "source": [
    "name=str(input(\"Введите имя пользователя: \"))\n",
    "name_list=name.split(\" \")\n",
    "\n",
    "correct_name=''.join(name_list)\n",
    "print(correct_name)"
   ]
  }
 ],
 "metadata": {
  "kernelspec": {
   "display_name": "Python 3 (ipykernel)",
   "language": "python",
   "name": "python3"
  },
  "language_info": {
   "codemirror_mode": {
    "name": "ipython",
    "version": 3
   },
   "file_extension": ".py",
   "mimetype": "text/x-python",
   "name": "python",
   "nbconvert_exporter": "python",
   "pygments_lexer": "ipython3",
   "version": "3.10.4"
  }
 },
 "nbformat": 4,
 "nbformat_minor": 5
}
