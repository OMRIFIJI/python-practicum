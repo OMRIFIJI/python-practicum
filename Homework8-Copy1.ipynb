{
 "cells": [
  {
   "cell_type": "markdown",
   "id": "a5fa3877",
   "metadata": {},
   "source": [
    "<font size = 3> <b> Упр.1 </b> </font>\n",
    "Проверить размер встроенного типа плавающая точка и numpy.float64. т.е. берем 1 и делим на 2 пока не ноль.\n",
    "\\\n",
    "а) x = numpy.float64(1.0), \n",
    "\\\n",
    "б) x = 1.0"
   ]
  },
  {
   "cell_type": "code",
   "execution_count": 1,
   "id": "488b60a3",
   "metadata": {},
   "outputs": [],
   "source": [
    "import numpy as np"
   ]
  },
  {
   "cell_type": "code",
   "execution_count": 2,
   "id": "c6e3031b",
   "metadata": {},
   "outputs": [],
   "source": [
    "#Вывожу число итераций\n",
    "def check_size(to_float):\n",
    "    a=to_float(1.0)\n",
    "    while(a/to_float(2.0)!=0):\n",
    "        a=a/to_float(2.0)\n",
    "    return a"
   ]
  },
  {
   "cell_type": "code",
   "execution_count": 3,
   "id": "a3fa10e7",
   "metadata": {},
   "outputs": [],
   "source": [
    "def check_size_v2(to_float):\n",
    "    a=to_float(1.0)\n",
    "    while(to_float(1.0) + a/to_float(2.0) != to_float(1.0)):\n",
    "        a/=to_float(2.0)\n",
    "    return a"
   ]
  },
  {
   "cell_type": "code",
   "execution_count": 4,
   "id": "7c757e0b",
   "metadata": {},
   "outputs": [
    {
     "name": "stdout",
     "output_type": "stream",
     "text": [
      "float:  2.220446049250313e-16\n",
      "numpy.float32:  1.1920929e-07\n",
      "numpy.float64:  2.220446049250313e-16\n"
     ]
    }
   ],
   "source": [
    "#Машинный эпсилон (Наименьшее число)\n",
    "print(\"float: \", check_size_v2(float))\n",
    "print(\"numpy.float32: \", check_size_v2(np.float32) )\n",
    "print(\"numpy.float64: \", check_size_v2(np.float64) )"
   ]
  },
  {
   "cell_type": "markdown",
   "id": "5b1a0052",
   "metadata": {},
   "source": [
    "<font color=\"Blue\"><i>Совпадает со встроенной функцией</i></font>"
   ]
  },
  {
   "cell_type": "code",
   "execution_count": 5,
   "id": "d2e4bafa",
   "metadata": {},
   "outputs": [
    {
     "name": "stdout",
     "output_type": "stream",
     "text": [
      "float:  2.220446049250313e-16\n",
      "numpy.float32:  1.1920929e-07\n",
      "numpy.float64:  2.220446049250313e-16\n"
     ]
    }
   ],
   "source": [
    "print(\"float: \",np.finfo(float).eps)\n",
    "print(\"numpy.float32: \",np.finfo(np.float32).eps)\n",
    "print(\"numpy.float64: \", np.finfo(np.float64).eps)"
   ]
  },
  {
   "cell_type": "markdown",
   "id": "c4d55c1c",
   "metadata": {},
   "source": [
    "<b>Интересный факт</b>"
   ]
  },
  {
   "cell_type": "code",
   "execution_count": 6,
   "id": "46cf183d",
   "metadata": {},
   "outputs": [
    {
     "name": "stdout",
     "output_type": "stream",
     "text": [
      "float eps:  5e-324\n",
      "eps > 0  True\n",
      "1.0 + eps > 1.0:  False\n"
     ]
    }
   ],
   "source": [
    "#Машинный нуль - наименьшее число больше нуля (другое число)\n",
    "print(\"float eps: \", check_size(float ))\n",
    "print(\"eps > 0 \", check_size(float)>0.0 )\n",
    "print(\"1.0 + eps > 1.0: \", check_size(float)+1.0>1.0 )"
   ]
  },
  {
   "cell_type": "markdown",
   "id": "e9d61705",
   "metadata": {},
   "source": [
    "<font size = 3> <b> Упр.2 </b> </font> По массиву значений построй массив отношения текущего элемента к последующему (результирующий массив будет на один элемент меньше)."
   ]
  },
  {
   "cell_type": "code",
   "execution_count": 7,
   "id": "8f176a91",
   "metadata": {},
   "outputs": [],
   "source": [
    "a = np.array( [1, 2, 3, 4])"
   ]
  },
  {
   "cell_type": "code",
   "execution_count": 8,
   "id": "63e1e123",
   "metadata": {},
   "outputs": [
    {
     "data": {
      "text/plain": [
       "array([2.        , 1.5       , 1.33333333])"
      ]
     },
     "execution_count": 8,
     "metadata": {},
     "output_type": "execute_result"
    }
   ],
   "source": [
    "a[1:]/a[:-1]"
   ]
  },
  {
   "cell_type": "markdown",
   "id": "9a494e53",
   "metadata": {},
   "source": [
    "<font size = 3> <b> Упр.3 </b> </font> По массиву посчитай скользящее среднее, т.е. среднее окна из например 10 элементов. Окно скользит по массиву."
   ]
  },
  {
   "cell_type": "code",
   "execution_count": 9,
   "id": "8dcd5c57",
   "metadata": {},
   "outputs": [],
   "source": [
    "wsize=10"
   ]
  },
  {
   "cell_type": "code",
   "execution_count": 10,
   "id": "5e5b829a",
   "metadata": {},
   "outputs": [],
   "source": [
    "a = np.array( list(range(50)))"
   ]
  },
  {
   "cell_type": "code",
   "execution_count": 11,
   "id": "2c224342",
   "metadata": {},
   "outputs": [],
   "source": [
    "#k - начало периода\n",
    "#wsize - размер окна\n",
    "def sliding_mean(a,wsize):\n",
    "    k=0\n",
    "    l=[]\n",
    "    while k+wsize<len(a)+1:\n",
    "        l.append(a[k:k+wsize].sum()/wsize)\n",
    "        k+=1 \n",
    "    return l\n",
    "#Длина l на выходе должна быть len(a)+1-wsize"
   ]
  },
  {
   "cell_type": "code",
   "execution_count": 12,
   "id": "17196203",
   "metadata": {},
   "outputs": [
    {
     "data": {
      "text/plain": [
       "(50, 50)"
      ]
     },
     "execution_count": 12,
     "metadata": {},
     "output_type": "execute_result"
    }
   ],
   "source": [
    "#Вырожденный случай\n",
    "len(a), len(sliding_mean(a, 1))"
   ]
  },
  {
   "cell_type": "code",
   "execution_count": 13,
   "id": "c0b3a75a",
   "metadata": {},
   "outputs": [
    {
     "data": {
      "text/plain": [
       "(5.5, 41)"
      ]
     },
     "execution_count": 13,
     "metadata": {},
     "output_type": "execute_result"
    }
   ],
   "source": [
    "sliding_mean(a, 10)[1], len(sliding_mean(a, 10))"
   ]
  },
  {
   "cell_type": "markdown",
   "id": "44e4293c",
   "metadata": {},
   "source": [
    "<font size = 3> <b> Упр.4 </b> </font> Нарисуй график данной прямой. Лучше поверх исходных данных.\n"
   ]
  },
  {
   "cell_type": "code",
   "execution_count": 14,
   "id": "b39827fb",
   "metadata": {},
   "outputs": [],
   "source": [
    "import matplotlib.pyplot as plt"
   ]
  },
  {
   "cell_type": "code",
   "execution_count": 15,
   "id": "0c67ebbb",
   "metadata": {},
   "outputs": [
    {
     "data": {
      "text/plain": [
       "(-5.725, 10.225, -5.728790341298216, 2.0963122637255793)"
      ]
     },
     "execution_count": 15,
     "metadata": {},
     "output_type": "execute_result"
    },
    {
     "data": {
      "image/png": "[encoded data removed]",
      "text/plain": [
       "<Figure size 640x480 with 1 Axes>"
      ]
     },
     "metadata": {},
     "output_type": "display_data"
    }
   ],
   "source": [
    "x = np.linspace(-5, 9.5, 9)\n",
    "y = 0.5*x - 3\n",
    "#Добавили шума\n",
    "yy = y + np.random.randn( y.shape[0] )/3\n",
    "plt.plot(x, yy, '*-b')\n",
    "plt.axis('equal')"
   ]
  },
  {
   "cell_type": "code",
   "execution_count": 16,
   "id": "de39c7c7",
   "metadata": {},
   "outputs": [
    {
     "data": {
      "text/plain": [
       "array([-5.41096649, -4.50747653, -3.60398656, -2.7004966 , -1.79700664,\n",
       "       -0.89351667,  0.00997329,  0.91346326,  1.81695322])"
      ]
     },
     "execution_count": 16,
     "metadata": {},
     "output_type": "execute_result"
    }
   ],
   "source": [
    "#решаем здесь yr=A*b (А состоит из x и единичек)\n",
    "A = np.array( [np.ones_like(x), x ] ).T\n",
    "b = np.linalg.pinv( (A.T).dot(A) ).dot(A.T).dot(yy)\n",
    "yr=A.dot(b)\n",
    "yr"
   ]
  },
  {
   "cell_type": "code",
   "execution_count": 17,
   "id": "beb64fba",
   "metadata": {},
   "outputs": [
    {
     "data": {
      "image/png": "[encoded data removed]",
      "text/plain": [
       "<Figure size 640x480 with 1 Axes>"
      ]
     },
     "metadata": {},
     "output_type": "display_data"
    }
   ],
   "source": [
    "plt.plot(x, yy, '*-b', label = \"Исходная кривая\")\n",
    "plt.plot(x, yr, '-r', label = \"Приближение регрессией\")\n",
    "plt.axis('equal')\n",
    "plt.legend();"
   ]
  }
 ],
 "metadata": {
  "kernelspec": {
   "display_name": "Python 3 (ipykernel)",
   "language": "python",
   "name": "python3"
  },
  "language_info": {
   "codemirror_mode": {
    "name": "ipython",
    "version": 3
   },
   "file_extension": ".py",
   "mimetype": "text/x-python",
   "name": "python",
   "nbconvert_exporter": "python",
   "pygments_lexer": "ipython3",
   "version": "3.10.6"
  }
 },
 "nbformat": 4,
 "nbformat_minor": 5
}
