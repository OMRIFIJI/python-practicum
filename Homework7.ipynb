{
 "cells": [
  {
   "cell_type": "markdown",
   "id": "ab8986b5",
   "metadata": {},
   "source": [
    "<font size = 3> <b> Упр.1 </b> </font>\n",
    "Список кортежей некой информации: фио, эмитент/цена, нефтяное месторождение/прогнозируемый объем запаса. Функция печати информации. Распечатать информацию элементов списка."
   ]
  },
  {
   "cell_type": "code",
   "execution_count": 1,
   "id": "80e44ee2",
   "metadata": {},
   "outputs": [],
   "source": [
    "import csv"
   ]
  },
  {
   "cell_type": "code",
   "execution_count": 2,
   "id": "30e60fcd",
   "metadata": {},
   "outputs": [],
   "source": [
    "tuple_list=[]"
   ]
  },
  {
   "cell_type": "code",
   "execution_count": 3,
   "id": "e5c19a06",
   "metadata": {},
   "outputs": [],
   "source": [
    "#Золото с интервалом в час за 14-е октября (можно использовать файл с ценами за несколько дней)\n",
    "with open(\"./files/gold_2022_14_11.txt\") as f:\n",
    "    lines = f.readlines()"
   ]
  },
  {
   "cell_type": "code",
   "execution_count": 4,
   "id": "2c51a0a2",
   "metadata": {},
   "outputs": [],
   "source": [
    "for line in lines[1:]:\n",
    "    fields = line.split(',')\n",
    "    if len(fields) < 9:\n",
    "        break\n",
    "    date = fields[2]\n",
    "    time = fields[3]\n",
    "    open_price = float(fields[4])\n",
    "    high_price = float(fields[5])\n",
    "    low_price = float(fields[6])\n",
    "    close_price = float(fields[7])\n",
    "    vol = int(fields[8])\n",
    "    \n",
    "    #Дата\n",
    "    year, month, day = int(date[:4]), int(date[4:6]), int(date[6:8])\n",
    "    \n",
    "    date = (year,month,day)\n",
    "    \n",
    "    #Время\n",
    "    hours, minutes, seconds = int(time[:2]), int(time[2:4]), int(time[4:])\n",
    "    \n",
    "    time = (hours,minutes,seconds)\n",
    "    #Собираем в один кортеж\n",
    "    \n",
    "    tuple_gold = (date,time,open_price,high_price,low_price,close_price,vol)\n",
    "    \n",
    "    #Добавляем в список\n",
    "    tuple_list.append(tuple_gold)\n",
    "    "
   ]
  },
  {
   "cell_type": "code",
   "execution_count": 5,
   "id": "c47d1a36",
   "metadata": {},
   "outputs": [
    {
     "data": {
      "text/plain": [
       "((2022, 10, 14), (3, 0, 0), 1672.0, 1672.0, 1669.3, 1669.9, 1412)"
      ]
     },
     "execution_count": 5,
     "metadata": {},
     "output_type": "execute_result"
    }
   ],
   "source": [
    "#(дата, время, open, high, low, close, volume)\n",
    "tuple_list[1]"
   ]
  },
  {
   "cell_type": "code",
   "execution_count": 6,
   "id": "ccac7d27",
   "metadata": {},
   "outputs": [],
   "source": [
    "print_full_info = (lambda x: print(\"Информация о золоте \" + str(x[0][2]) + \".\" + str(x[0][1]) + \".\" + str(x[0][0]) \n",
    "                              + \" в \" + str(x[1][0]) + \":\" + str(x[1][1]) + \":\" + str(x[1][2]) + \"\\n\"\n",
    "                             + \"\\nЦена на момент открытия: \" + str(x[2]) +  \"\\nМаксимальная цена: \" + str(x[3]) \n",
    "                             + \"\\nМинимальная цена: \" + str(x[4]) + \"\\nЦена на момент закрытия: \" + str(x[5])\n",
    "                             +\"\\nОбъём, проданного золота: \" + str(x[6])   ) )"
   ]
  },
  {
   "cell_type": "code",
   "execution_count": 7,
   "id": "e38cc2bc",
   "metadata": {},
   "outputs": [
    {
     "name": "stdout",
     "output_type": "stream",
     "text": [
      "Информация о золоте 14.10.2022 в 3:0:0\n",
      "\n",
      "Цена на момент открытия: 1672.0\n",
      "Максимальная цена: 1672.0\n",
      "Минимальная цена: 1669.3\n",
      "Цена на момент закрытия: 1669.9\n",
      "Объём, проданного золота: 1412\n"
     ]
    }
   ],
   "source": [
    "print_full_info(tuple_list[1])"
   ]
  },
  {
   "cell_type": "code",
   "execution_count": 8,
   "id": "1cd7e2b2",
   "metadata": {},
   "outputs": [],
   "source": [
    "#Среднее арифметическое максимальной и минимальной цены\n",
    "mean_low_high = lambda x: (x[4]+x[3])/2"
   ]
  },
  {
   "cell_type": "code",
   "execution_count": 9,
   "id": "acd6108e",
   "metadata": {},
   "outputs": [
    {
     "data": {
      "text/plain": [
       "[1672.25,\n",
       " 1670.65,\n",
       " 1669.3000000000002,\n",
       " 1669.9499999999998,\n",
       " 1674.65,\n",
       " 1674.4,\n",
       " 1673.85,\n",
       " 1674.65,\n",
       " 1675.9499999999998,\n",
       " 1673.1999999999998]"
      ]
     },
     "execution_count": 9,
     "metadata": {},
     "output_type": "execute_result"
    }
   ],
   "source": [
    "#Среднее за первые 10 часов\n",
    "mean_list = list(map(mean_low_high, tuple_list))\n",
    "mean_list[:10]"
   ]
  },
  {
   "cell_type": "markdown",
   "id": "5f69a4e3",
   "metadata": {},
   "source": [
    "<font size = 3> <b> Упр.2 </b> </font>\n",
    "Посчитать сколько раз встречаются различные буквы в тексте.\n"
   ]
  },
  {
   "cell_type": "code",
   "execution_count": 10,
   "id": "dd068350",
   "metadata": {},
   "outputs": [],
   "source": [
    "import regex as re"
   ]
  },
  {
   "cell_type": "code",
   "execution_count": 11,
   "id": "0550876b",
   "metadata": {},
   "outputs": [],
   "source": [
    "#Создаю словарь\n",
    "alphabet=list( map( chr, range(ord('а'), ord('я')+1)) )\n",
    "amount_of_letter={a : 0 for a in alphabet}"
   ]
  },
  {
   "cell_type": "code",
   "execution_count": 12,
   "id": "d6c3659c",
   "metadata": {
    "scrolled": true
   },
   "outputs": [],
   "source": [
    "#Входная строка\n",
    "text_str=\"Алексей Федорович Карамазов был третьим сыном помещика нашего уезда Федора Павловича Карамазова...\""
   ]
  },
  {
   "cell_type": "code",
   "execution_count": 13,
   "id": "843a07fe",
   "metadata": {},
   "outputs": [],
   "source": [
    "#Убрали всё кроме букв и сделали все буквы маленькими\n",
    "for letter in \"\".join(re.findall(\"[а-я]+\", text_str.lower())):\n",
    "    amount_of_letter[letter]+=1"
   ]
  },
  {
   "cell_type": "code",
   "execution_count": 14,
   "id": "cc71cd03",
   "metadata": {},
   "outputs": [
    {
     "data": {
      "text/plain": [
       "(2, 1, 2)"
      ]
     },
     "execution_count": 14,
     "metadata": {},
     "output_type": "execute_result"
    }
   ],
   "source": [
    "#amount_of_letter\n",
    "amount_of_letter['ф'], amount_of_letter['б'], amount_of_letter['т']"
   ]
  },
  {
   "cell_type": "markdown",
   "id": "57bc5734",
   "metadata": {},
   "source": [
    "<font size = 3> <b> Упр.3 </b> </font>\n",
    "Составить словарь функций: sin, tan. Условно будет возможным func\\['sin'\\](0.5)."
   ]
  },
  {
   "cell_type": "code",
   "execution_count": 15,
   "id": "9b982d42",
   "metadata": {},
   "outputs": [],
   "source": [
    "import math as mt"
   ]
  },
  {
   "cell_type": "code",
   "execution_count": 16,
   "id": "ce999c9c",
   "metadata": {},
   "outputs": [],
   "source": [
    "func ={}\n",
    "func.setdefault('sin', mt.sin);\n",
    "func.setdefault('tan', mt.tan);"
   ]
  },
  {
   "cell_type": "code",
   "execution_count": 17,
   "id": "f4817e7d",
   "metadata": {},
   "outputs": [
    {
     "data": {
      "text/plain": [
       "1.0"
      ]
     },
     "execution_count": 17,
     "metadata": {},
     "output_type": "execute_result"
    }
   ],
   "source": [
    "func['sin'](mt.pi/2)"
   ]
  },
  {
   "cell_type": "code",
   "execution_count": 18,
   "id": "d48f2d67",
   "metadata": {},
   "outputs": [
    {
     "data": {
      "text/plain": [
       "-1.2246467991473532e-16"
      ]
     },
     "execution_count": 18,
     "metadata": {},
     "output_type": "execute_result"
    }
   ],
   "source": [
    "func['tan'](mt.pi)"
   ]
  },
  {
   "cell_type": "markdown",
   "id": "dc210b03",
   "metadata": {},
   "source": [
    "<font size = 3> <b> Упр.4 </b> </font>\n",
    "Как извлечь название групп? Должно получится ['часы', 'минуты', 'секунды', 'words']\n"
   ]
  },
  {
   "cell_type": "code",
   "execution_count": 19,
   "id": "800996e3",
   "metadata": {},
   "outputs": [
    {
     "data": {
      "text/plain": [
       "['часы', 'минуты', 'секунды', 'words']"
      ]
     },
     "execution_count": 19,
     "metadata": {},
     "output_type": "execute_result"
    }
   ],
   "source": [
    "#Случайно сделал в позапрошлый раз\n",
    "#На всякий случай продублировал\n",
    "s = '(?P<часы>[0-9][0-9]):(?P<минуты>[0-9][0-9]):(?P<секунды>[0-9][0-9])|(?P<words>[abcd]+)'\n",
    "re.findall(\"\\?P<([а-я]+|[a-z]+)>\", s) "
   ]
  },
  {
   "cell_type": "markdown",
   "id": "ed2f6a82",
   "metadata": {},
   "source": [
    "<font size = 3> <b> Упр.5 </b> </font>\n",
    "Добавить обработку возведения в степень ^. Ну и скобки хотелось бы."
   ]
  },
  {
   "cell_type": "code",
   "execution_count": 20,
   "id": "7b65cf69",
   "metadata": {},
   "outputs": [],
   "source": [
    "rnum = '(?P<NUM>[1-9]+[0-9]*)'\n",
    "rops = '(?P<OP>[+-^/*//])'\n",
    "rr = rnum + '|' + rops"
   ]
  },
  {
   "cell_type": "code",
   "execution_count": 21,
   "id": "5079a6a2",
   "metadata": {},
   "outputs": [
    {
     "data": {
      "text/plain": [
       "[('23', ''),\n",
       " ('', '+'),\n",
       " ('7', ''),\n",
       " ('', '-'),\n",
       " ('5', ''),\n",
       " ('', '*'),\n",
       " ('6', ''),\n",
       " ('', '+'),\n",
       " ('3', ''),\n",
       " ('', '^'),\n",
       " ('2', ''),\n",
       " ('', '+'),\n",
       " ('4', '')]"
      ]
     },
     "execution_count": 21,
     "metadata": {},
     "output_type": "execute_result"
    }
   ],
   "source": [
    "tkns = re.findall(rr, '23+7-5*6+3^2+4') #Должны получить 13\n",
    "tkns"
   ]
  },
  {
   "cell_type": "code",
   "execution_count": 22,
   "id": "6d00d025",
   "metadata": {},
   "outputs": [
    {
     "name": "stdout",
     "output_type": "stream",
     "text": [
      "? [] []\n",
      "? [] ['23']\n",
      "? ['+'] ['23']\n",
      "? ['+'] ['23', '7']\n",
      "<< ['+'] ['23', '7']\n",
      ">> [] [30.0]\n",
      "? ['-'] [30.0]\n",
      "? ['-'] [30.0, '5']\n",
      "? ['-', '*'] [30.0, '5']\n",
      "? ['-', '*'] [30.0, '5', '6']\n",
      "<< ['-', '*'] [30.0, '5', '6']\n",
      ">> ['-'] [30.0, 30.0]\n",
      "<< ['-'] [30.0, 30.0]\n",
      ">> [] [0.0]\n",
      "? ['+'] [0.0]\n",
      "? ['+'] [0.0, '3']\n",
      "? ['+', '^'] [0.0, '3']\n",
      "? ['+', '^'] [0.0, '3', '2']\n",
      "<< ['+', '^'] [0.0, '3', '2']\n",
      ">> ['+'] [0.0, 9.0]\n",
      "<< ['+'] [0.0, 9.0]\n",
      ">> [] [9.0]\n",
      "? ['+'] [9.0]\n",
      "? ['+'] [9.0, '4']\n",
      "<< ['+'] [9.0, '4']\n",
      ">> [] [13.0]\n"
     ]
    }
   ],
   "source": [
    "ops = []\n",
    "nums = []\n",
    "while len(tkns) or len(ops):\n",
    "    print(\"?\", ops, nums)\n",
    "    val = None\n",
    "    if len(tkns):\n",
    "        val = tkns.pop(0)\n",
    "        if val[1]=='':\n",
    "            nums.append(val[0])\n",
    "            continue\n",
    "        elif val[1] in ['*','/', '^']:\n",
    "            ops.append(val[1])\n",
    "            continue\n",
    "        elif val[1] in ['+','-']:\n",
    "            pass\n",
    "    while len(ops):\n",
    "        print('<<', ops, nums)\n",
    "        val2 = ops.pop()\n",
    "        ##print(val2)\n",
    "        v1 = float(nums.pop())\n",
    "        v2 = float(nums.pop())\n",
    "        if val2 == '/':\n",
    "            vv = v2/v1\n",
    "        elif val2 == '*':\n",
    "            vv = v1*v2\n",
    "        elif val2 == '+':\n",
    "            vv = v2+v1\n",
    "        elif val2 == '-':\n",
    "            vv = v2-v1\n",
    "        elif val2 == '^':\n",
    "            vv = pow(v2,v1)\n",
    "        nums.append(vv)\n",
    "        print('>>', ops, nums)\n",
    "    if val != None:\n",
    "        ops.append(val[1])\n",
    "\n"
   ]
  },
  {
   "cell_type": "code",
   "execution_count": 23,
   "id": "03b1c874",
   "metadata": {},
   "outputs": [
    {
     "data": {
      "text/plain": [
       "([], [13.0])"
      ]
     },
     "execution_count": 23,
     "metadata": {},
     "output_type": "execute_result"
    }
   ],
   "source": [
    "ops,nums"
   ]
  }
 ],
 "metadata": {
  "kernelspec": {
   "display_name": "Python 3 (ipykernel)",
   "language": "python",
   "name": "python3"
  },
  "language_info": {
   "codemirror_mode": {
    "name": "ipython",
    "version": 3
   },
   "file_extension": ".py",
   "mimetype": "text/x-python",
   "name": "python",
   "nbconvert_exporter": "python",
   "pygments_lexer": "ipython3",
   "version": "3.10.6"
  }
 },
 "nbformat": 4,
 "nbformat_minor": 5
}
