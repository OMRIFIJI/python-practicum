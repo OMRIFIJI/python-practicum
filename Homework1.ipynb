{
 "cells": [
  {
   "cell_type": "code",
   "execution_count": 72,
   "id": "2f5b5656",
   "metadata": {},
   "outputs": [],
   "source": [
    "l = range(-90, 100, 20)\n"
   ]
  },
  {
   "cell_type": "code",
   "execution_count": 73,
   "id": "69f486d0",
   "metadata": {},
   "outputs": [],
   "source": [
    "g = (2*i for i in l)"
   ]
  },
  {
   "cell_type": "code",
   "execution_count": 74,
   "id": "476e3d92",
   "metadata": {},
   "outputs": [],
   "source": [
    "c=(13*i for i in g)"
   ]
  },
  {
   "cell_type": "code",
   "execution_count": 75,
   "id": "1bd4e270",
   "metadata": {},
   "outputs": [
    {
     "data": {
      "text/plain": [
       "[-2340, -1820, -1300, -780, -260, 260, 780, 1300, 1820, 2340]"
      ]
     },
     "execution_count": 75,
     "metadata": {},
     "output_type": "execute_result"
    }
   ],
   "source": [
    "list(c)"
   ]
  },
  {
   "cell_type": "code",
   "execution_count": 76,
   "id": "50d0a5a6",
   "metadata": {},
   "outputs": [
    {
     "data": {
      "text/plain": [
       "[]"
      ]
     },
     "execution_count": 76,
     "metadata": {},
     "output_type": "execute_result"
    }
   ],
   "source": [
    "list(g)"
   ]
  },
  {
   "cell_type": "code",
   "execution_count": 77,
   "id": "31fe618b",
   "metadata": {},
   "outputs": [
    {
     "data": {
      "text/plain": [
       "[-90, -70, -50, -30, -10, 10, 30, 50, 70, 90]"
      ]
     },
     "execution_count": 77,
     "metadata": {},
     "output_type": "execute_result"
    }
   ],
   "source": [
    "list(l)"
   ]
  },
  {
   "cell_type": "code",
   "execution_count": 78,
   "id": "92386e6a",
   "metadata": {},
   "outputs": [
    {
     "data": {
      "text/plain": [
       "[-90, -70, -50, -30, -10, 10, 30, 50, 70, 90]"
      ]
     },
     "execution_count": 78,
     "metadata": {},
     "output_type": "execute_result"
    }
   ],
   "source": [
    "list(l)"
   ]
  },
  {
   "cell_type": "code",
   "execution_count": null,
   "id": "e388621b",
   "metadata": {},
   "outputs": [],
   "source": []
  }
 ],
 "metadata": {
  "kernelspec": {
   "display_name": "Python 3 (ipykernel)",
   "language": "python",
   "name": "python3"
  },
  "language_info": {
   "codemirror_mode": {
    "name": "ipython",
    "version": 3
   },
   "file_extension": ".py",
   "mimetype": "text/x-python",
   "name": "python",
   "nbconvert_exporter": "python",
   "pygments_lexer": "ipython3",
   "version": "3.8.10"
  }
 },
 "nbformat": 4,
 "nbformat_minor": 5
}
