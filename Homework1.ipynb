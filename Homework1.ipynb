{
 "cells": [
  {
   "cell_type": "code",
   "execution_count": 2,
   "id": "2f5b5656",
   "metadata": {},
   "outputs": [
    {
     "data": {
      "text/plain": [
       "[-90, -70, -50, -30, -10, 10, 30, 50, 70, 90]"
      ]
     },
     "execution_count": 2,
     "metadata": {},
     "output_type": "execute_result"
    }
   ],
   "source": [
    "l = range(-90, 100, 20)\n",
    "list(l)"
   ]
  },
  {
   "cell_type": "code",
   "execution_count": 3,
   "id": "69f486d0",
   "metadata": {},
   "outputs": [
    {
     "data": {
      "text/plain": [
       "[-180, -140, -100, -60, -20, 20, 60, 100, 140, 180]"
      ]
     },
     "execution_count": 3,
     "metadata": {},
     "output_type": "execute_result"
    }
   ],
   "source": [
    "g = (2*i for i in l)\n",
    "list(g)"
   ]
  },
  {
   "cell_type": "code",
   "execution_count": 4,
   "id": "476e3d92",
   "metadata": {},
   "outputs": [
    {
     "data": {
      "text/plain": [
       "[-1170, -910, -650, -390, -130, 130, 390, 650, 910, 1170]"
      ]
     },
     "execution_count": 4,
     "metadata": {},
     "output_type": "execute_result"
    }
   ],
   "source": [
    "c=(13*i for i in l)\n",
    "list(c)"
   ]
  }
 ],
 "metadata": {
  "kernelspec": {
   "display_name": "Python 3 (ipykernel)",
   "language": "python",
   "name": "python3"
  },
  "language_info": {
   "codemirror_mode": {
    "name": "ipython",
    "version": 3
   },
   "file_extension": ".py",
   "mimetype": "text/x-python",
   "name": "python",
   "nbconvert_exporter": "python",
   "pygments_lexer": "ipython3",
   "version": "3.10.4"
  }
 },
 "nbformat": 4,
 "nbformat_minor": 5
}
