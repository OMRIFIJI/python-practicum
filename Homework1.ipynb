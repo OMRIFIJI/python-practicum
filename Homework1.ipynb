{
 "cells": [
  {
   "cell_type": "markdown",
   "id": "e5a15710",
   "metadata": {},
   "source": [
    "<font size = 3> <b> Упр.1 </b> </font>\n",
    "Решить квадратное уравнение для заданных коэффициентов."
   ]
  },
  {
   "cell_type": "code",
   "execution_count": 1,
   "id": "4491425d",
   "metadata": {},
   "outputs": [],
   "source": [
    "#Здесь задаём коэффициенты\n",
    "a=1\n",
    "b=5\n",
    "c=6"
   ]
  },
  {
   "cell_type": "code",
   "execution_count": 2,
   "id": "ef2afc93",
   "metadata": {},
   "outputs": [
    {
     "name": "stdout",
     "output_type": "stream",
     "text": [
      "x1 = -2.0 x2 = -3.0\n"
     ]
    }
   ],
   "source": [
    "if(a==0):\n",
    "    if(b==0):\n",
    "        print(\"Коэффициенты при x и x^2 равны 0\")\n",
    "    else:\n",
    "        x1 = -c/b\n",
    "        x2 = x1\n",
    "        print(\"x = \" + str(x1)) #Линейное\n",
    "else:\n",
    "    D = b**2-4*a*c\n",
    "    if D == 0:\n",
    "        x1 = -b/(2*a)\n",
    "        x2 = x1\n",
    "        print(\"x = \" + str(x1) )\n",
    "    else:\n",
    "        x1 = ( -b + D**(1/2) ) / (2*a)\n",
    "        x2 = -( b + D**(1/2) ) / (2*a)\n",
    "        print(\"x1 = \" + str(x1) + \" x2 = \" + str(x2) )"
   ]
  },
  {
   "cell_type": "code",
   "execution_count": 3,
   "id": "dfd02eb4",
   "metadata": {},
   "outputs": [
    {
     "name": "stdout",
     "output_type": "stream",
     "text": [
      "Результаты подстановки x1 и x2 соответственно:\n"
     ]
    },
    {
     "data": {
      "text/plain": [
       "(0.0, 0.0)"
      ]
     },
     "execution_count": 3,
     "metadata": {},
     "output_type": "execute_result"
    }
   ],
   "source": [
    "#Здесь проверяем\n",
    "print(\"Результаты подстановки x1 и x2 соответственно:\")\n",
    "a*x1**2 + b*x1 + c, a*x2**2 + b*x2 + c"
   ]
  },
  {
   "cell_type": "markdown",
   "id": "7b121021",
   "metadata": {},
   "source": [
    "<font size = 3> <b>Упр.2</b> </font> \n",
    "Решить уравнение sin(ax+b)=c при заданных значениях a, b и c. "
   ]
  },
  {
   "cell_type": "code",
   "execution_count": 4,
   "id": "2ccd0efb",
   "metadata": {},
   "outputs": [],
   "source": [
    "import math as mt"
   ]
  },
  {
   "cell_type": "code",
   "execution_count": 5,
   "id": "5c7ece4e",
   "metadata": {},
   "outputs": [],
   "source": [
    "#Задаём a,b,c\n",
    "a=1\n",
    "b=mt.pi/4\n",
    "c=1/2"
   ]
  },
  {
   "cell_type": "code",
   "execution_count": 6,
   "id": "62400cd0",
   "metadata": {},
   "outputs": [
    {
     "name": "stdout",
     "output_type": "stream",
     "text": [
      "Частное решение 1: -0.26179938779914935\n",
      "Частное решение 2: 1.8325957145940457\n",
      "Период = 6.283185307179586\n"
     ]
    }
   ],
   "source": [
    "#Решение\n",
    "if (abs(c)>1):\n",
    "    print(\"Нет решений\")\n",
    "else:\n",
    "    if(a==0):\n",
    "        print(\"Коэффициент при x равен 0\")\n",
    "    else:\n",
    "        x1=(mt.asin(c)-b)/a\n",
    "        x2=(mt.pi-mt.asin(c)-b)/a\n",
    "        period = 2*mt.pi/a\n",
    "        print(\"Частное решение 1: \" + str(x1) + \"\\nЧастное решение 2: \" + str(x2) + \"\\nПериод = \" + str(period))"
   ]
  },
  {
   "cell_type": "code",
   "execution_count": 7,
   "id": "250599b3",
   "metadata": {},
   "outputs": [
    {
     "name": "stdout",
     "output_type": "stream",
     "text": [
      "Результаты подстановки x1 и x2 соответственно:\n",
      "\n",
      "(0.0, 3.3306690738754696e-16)\n",
      "\n",
      "Аналогично, но со сдвигом на период = 6.283185307179586\n",
      "\n",
      "(0.0, -2.220446049250313e-16)\n"
     ]
    }
   ],
   "source": [
    "#Проверка\n",
    "print(\"Результаты подстановки x1 и x2 соответственно:\\n\")\n",
    "print( (mt.sin(a*x1+b)-c , mt.sin(a*x2+b)-c) )\n",
    "\n",
    "print(\"\\nАналогично, но со сдвигом на период = \" + str(period) +\"\\n\")\n",
    "print( (mt.sin(a*(x1+period)+b)-c , mt.sin(a*(x2+period)+b)-c) )\n"
   ]
  },
  {
   "cell_type": "markdown",
   "id": "bdbcf893",
   "metadata": {},
   "source": [
    "<font size = 3><b>Упр.</b> </font>\n",
    "Вычислить абсолютное значение числа использую смесь логических и арифметических выражений."
   ]
  },
  {
   "cell_type": "code",
   "execution_count": 8,
   "id": "b64530bc",
   "metadata": {},
   "outputs": [],
   "source": [
    "#Будем тестировать на a и b\n",
    "a=10\n",
    "b=-5"
   ]
  },
  {
   "cell_type": "code",
   "execution_count": 9,
   "id": "da9d124c",
   "metadata": {},
   "outputs": [
    {
     "data": {
      "text/plain": [
       "(10, 5)"
      ]
     },
     "execution_count": 9,
     "metadata": {},
     "output_type": "execute_result"
    }
   ],
   "source": [
    "(-1)**( int(a < 0) )*a, (-1)**( int(b < 0) )*b"
   ]
  },
  {
   "cell_type": "markdown",
   "id": "485fde4b",
   "metadata": {},
   "source": [
    "<font size = 3><b>Упр.4</b> </font>\n",
    "Написать программу рисующую табличку."
   ]
  },
  {
   "cell_type": "code",
   "execution_count": 10,
   "id": "a6ce4bcd",
   "metadata": {},
   "outputs": [],
   "source": [
    "#n - количество строк, m - количество столбцов\n",
    "n=3\n",
    "m=4"
   ]
  },
  {
   "cell_type": "code",
   "execution_count": 11,
   "id": "45ef2929",
   "metadata": {},
   "outputs": [
    {
     "name": "stdout",
     "output_type": "stream",
     "text": [
      "-----------------------------\n",
      "|      |      |      |      |\n",
      "|      |      |      |      |\n",
      "-----------------------------\n",
      "|      |      |      |      |\n",
      "|      |      |      |      |\n",
      "-----------------------------\n",
      "|      |      |      |      |\n",
      "|      |      |      |      |\n",
      "-----------------------------\n"
     ]
    }
   ],
   "source": [
    "h=\"-\"*7\n",
    "v=\"|\"\n",
    "for i in range(n):\n",
    "    print(h*m+ \"-\")\n",
    "    print( m*(v+\" \"*6)+v )\n",
    "    print( m*(v+\" \"*6)+v )\n",
    "\n",
    "print(h*m+ \"-\")\n",
    "    "
   ]
  }
 ],
 "metadata": {
  "kernelspec": {
   "display_name": "Python 3 (ipykernel)",
   "language": "python",
   "name": "python3"
  },
  "language_info": {
   "codemirror_mode": {
    "name": "ipython",
    "version": 3
   },
   "file_extension": ".py",
   "mimetype": "text/x-python",
   "name": "python",
   "nbconvert_exporter": "python",
   "pygments_lexer": "ipython3",
   "version": "3.10.4"
  }
 },
 "nbformat": 4,
 "nbformat_minor": 5
}
