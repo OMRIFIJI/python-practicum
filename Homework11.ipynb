{
 "cells": [
  {
   "cell_type": "markdown",
   "id": "a5fa3877",
   "metadata": {},
   "source": [
    "<font size = 3> <b> Упр.1 </b> </font>\n",
    "Написать класс, первый метод которого решает квадратное уравнение и печатает его корни в виде списка, а второй метод \"calc\" принимает на вход коэффициенты квадратного уравнения."
   ]
  },
  {
   "cell_type": "code",
   "execution_count": 1,
   "id": "5f802aa5",
   "metadata": {},
   "outputs": [],
   "source": [
    "import math as mt"
   ]
  },
  {
   "cell_type": "code",
   "execution_count": 2,
   "id": "488b60a3",
   "metadata": {},
   "outputs": [],
   "source": [
    "class quadratic:\n",
    "    def calc(self,a,b,c):\n",
    "        self.a, self.b, self.c=a, b, c\n",
    "    def solve_quad(self):\n",
    "        eps=1e-14\n",
    "        D=self.b**2-4*self.a*self.c\n",
    "\n",
    "        if(abs(self.a)<eps):\n",
    "            if(abs(self.b)<eps):\n",
    "                if(abs(self.c)<eps):\n",
    "                    print(\"Любое число является корнем\")\n",
    "                else:\n",
    "                    return []\n",
    "            else:\n",
    "                return -self.c/self.b\n",
    "\n",
    "        elif(D>=0):\n",
    "            x1, x2= -self.b+mt.sqrt(D)/(2*self.a), -self.b-mt.sqrt(D)/(2*self.a)\n",
    "            return [x1,x2]\n",
    "        elif(D<0):\n",
    "            return []    "
   ]
  },
  {
   "cell_type": "code",
   "execution_count": 3,
   "id": "3fcb1557",
   "metadata": {},
   "outputs": [],
   "source": [
    "obj=quadratic()"
   ]
  },
  {
   "cell_type": "code",
   "execution_count": 4,
   "id": "4b4afefe",
   "metadata": {},
   "outputs": [],
   "source": [
    "obj.calc(1,-2,1)"
   ]
  },
  {
   "cell_type": "code",
   "execution_count": 5,
   "id": "9cc305f3",
   "metadata": {},
   "outputs": [
    {
     "data": {
      "text/plain": [
       "[2.0, 2.0]"
      ]
     },
     "execution_count": 5,
     "metadata": {},
     "output_type": "execute_result"
    }
   ],
   "source": [
    "obj.solve_quad()"
   ]
  }
 ],
 "metadata": {
  "kernelspec": {
   "display_name": "Python 3 (ipykernel)",
   "language": "python",
   "name": "python3"
  },
  "language_info": {
   "codemirror_mode": {
    "name": "ipython",
    "version": 3
   },
   "file_extension": ".py",
   "mimetype": "text/x-python",
   "name": "python",
   "nbconvert_exporter": "python",
   "pygments_lexer": "ipython3",
   "version": "3.10.6"
  }
 },
 "nbformat": 4,
 "nbformat_minor": 5
}
